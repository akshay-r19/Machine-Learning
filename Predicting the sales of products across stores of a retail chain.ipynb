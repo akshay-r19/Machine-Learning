{
 "cells": [
  {
   "cell_type": "markdown",
   "metadata": {},
   "source": [
    "# Importing the required libraries"
   ]
  },
  {
   "cell_type": "code",
   "execution_count": 1,
   "metadata": {},
   "outputs": [],
   "source": [
    "import pandas as pd\n",
    "import numpy as np\n",
    "import matplotlib.pyplot as plt\n",
    "import seaborn as sns\n",
    "%matplotlib inline"
   ]
  },
  {
   "cell_type": "markdown",
   "metadata": {},
   "source": [
    "# Read the datasets"
   ]
  },
  {
   "cell_type": "code",
   "execution_count": 2,
   "metadata": {},
   "outputs": [],
   "source": [
    "train_data = pd.read_csv('train_data.csv',sep=',',header=0)\n",
    "test_data = pd.read_csv('test_data-1585196922695.csv',sep=',',header=0)\n",
    "product_prices = pd.read_csv('product_prices-1585196839158.csv',sep=',',header=0)\n",
    "date_to_week_id_map = pd.read_csv('date_to_week_id_map-1585196862691.csv',sep=',',header=0)"
   ]
  },
  {
   "cell_type": "markdown",
   "metadata": {},
   "source": [
    "# Displaying the dimensions of the datasets"
   ]
  },
  {
   "cell_type": "code",
   "execution_count": 3,
   "metadata": {},
   "outputs": [
    {
     "name": "stdout",
     "output_type": "stream",
     "text": [
      "shape of train_data (395000, 7)\n",
      "shape of test_data (15500, 7)\n",
      "shape of product_prices (59000, 4)\n",
      "shape of date_to_week_id_map (821, 2)\n"
     ]
    }
   ],
   "source": [
    "print('shape of train_data',train_data.shape)\n",
    "print('shape of test_data',test_data.shape)\n",
    "print('shape of product_prices',product_prices.shape)\n",
    "print('shape of date_to_week_id_map',date_to_week_id_map.shape)"
   ]
  },
  {
   "cell_type": "markdown",
   "metadata": {},
   "source": [
    "# Displaying head of the datasets"
   ]
  },
  {
   "cell_type": "code",
   "execution_count": 4,
   "metadata": {},
   "outputs": [
    {
     "data": {
      "text/html": [
       "<div>\n",
       "<style scoped>\n",
       "    .dataframe tbody tr th:only-of-type {\n",
       "        vertical-align: middle;\n",
       "    }\n",
       "\n",
       "    .dataframe tbody tr th {\n",
       "        vertical-align: top;\n",
       "    }\n",
       "\n",
       "    .dataframe thead th {\n",
       "        text-align: right;\n",
       "    }\n",
       "</style>\n",
       "<table border=\"1\" class=\"dataframe\">\n",
       "  <thead>\n",
       "    <tr style=\"text-align: right;\">\n",
       "      <th></th>\n",
       "      <th>date</th>\n",
       "      <th>product_identifier</th>\n",
       "      <th>department_identifier</th>\n",
       "      <th>category_of_product</th>\n",
       "      <th>outlet</th>\n",
       "      <th>state</th>\n",
       "      <th>sales</th>\n",
       "    </tr>\n",
       "  </thead>\n",
       "  <tbody>\n",
       "    <tr>\n",
       "      <th>0</th>\n",
       "      <td>2012-01-01</td>\n",
       "      <td>74</td>\n",
       "      <td>11</td>\n",
       "      <td>others</td>\n",
       "      <td>111</td>\n",
       "      <td>Maharashtra</td>\n",
       "      <td>0</td>\n",
       "    </tr>\n",
       "    <tr>\n",
       "      <th>1</th>\n",
       "      <td>2012-01-01</td>\n",
       "      <td>337</td>\n",
       "      <td>11</td>\n",
       "      <td>others</td>\n",
       "      <td>111</td>\n",
       "      <td>Maharashtra</td>\n",
       "      <td>1</td>\n",
       "    </tr>\n",
       "    <tr>\n",
       "      <th>2</th>\n",
       "      <td>2012-01-01</td>\n",
       "      <td>423</td>\n",
       "      <td>12</td>\n",
       "      <td>others</td>\n",
       "      <td>111</td>\n",
       "      <td>Maharashtra</td>\n",
       "      <td>0</td>\n",
       "    </tr>\n",
       "    <tr>\n",
       "      <th>3</th>\n",
       "      <td>2012-01-01</td>\n",
       "      <td>432</td>\n",
       "      <td>12</td>\n",
       "      <td>others</td>\n",
       "      <td>111</td>\n",
       "      <td>Maharashtra</td>\n",
       "      <td>0</td>\n",
       "    </tr>\n",
       "    <tr>\n",
       "      <th>4</th>\n",
       "      <td>2012-01-01</td>\n",
       "      <td>581</td>\n",
       "      <td>21</td>\n",
       "      <td>fast_moving_consumer_goods</td>\n",
       "      <td>111</td>\n",
       "      <td>Maharashtra</td>\n",
       "      <td>0</td>\n",
       "    </tr>\n",
       "  </tbody>\n",
       "</table>\n",
       "</div>"
      ],
      "text/plain": [
       "         date  product_identifier  department_identifier  \\\n",
       "0  2012-01-01                  74                     11   \n",
       "1  2012-01-01                 337                     11   \n",
       "2  2012-01-01                 423                     12   \n",
       "3  2012-01-01                 432                     12   \n",
       "4  2012-01-01                 581                     21   \n",
       "\n",
       "          category_of_product  outlet        state  sales  \n",
       "0                      others     111  Maharashtra      0  \n",
       "1                      others     111  Maharashtra      1  \n",
       "2                      others     111  Maharashtra      0  \n",
       "3                      others     111  Maharashtra      0  \n",
       "4  fast_moving_consumer_goods     111  Maharashtra      0  "
      ]
     },
     "execution_count": 4,
     "metadata": {},
     "output_type": "execute_result"
    }
   ],
   "source": [
    "train_data.head()"
   ]
  },
  {
   "cell_type": "code",
   "execution_count": 5,
   "metadata": {},
   "outputs": [
    {
     "data": {
      "text/html": [
       "<div>\n",
       "<style scoped>\n",
       "    .dataframe tbody tr th:only-of-type {\n",
       "        vertical-align: middle;\n",
       "    }\n",
       "\n",
       "    .dataframe tbody tr th {\n",
       "        vertical-align: top;\n",
       "    }\n",
       "\n",
       "    .dataframe thead th {\n",
       "        text-align: right;\n",
       "    }\n",
       "</style>\n",
       "<table border=\"1\" class=\"dataframe\">\n",
       "  <thead>\n",
       "    <tr style=\"text-align: right;\">\n",
       "      <th></th>\n",
       "      <th>id</th>\n",
       "      <th>date</th>\n",
       "      <th>product_identifier</th>\n",
       "      <th>department_identifier</th>\n",
       "      <th>category_of_product</th>\n",
       "      <th>outlet</th>\n",
       "      <th>state</th>\n",
       "    </tr>\n",
       "  </thead>\n",
       "  <tbody>\n",
       "    <tr>\n",
       "      <th>0</th>\n",
       "      <td>1</td>\n",
       "      <td>2014-03-01</td>\n",
       "      <td>74</td>\n",
       "      <td>11</td>\n",
       "      <td>others</td>\n",
       "      <td>111</td>\n",
       "      <td>Maharashtra</td>\n",
       "    </tr>\n",
       "    <tr>\n",
       "      <th>1</th>\n",
       "      <td>2</td>\n",
       "      <td>2014-03-01</td>\n",
       "      <td>337</td>\n",
       "      <td>11</td>\n",
       "      <td>others</td>\n",
       "      <td>111</td>\n",
       "      <td>Maharashtra</td>\n",
       "    </tr>\n",
       "    <tr>\n",
       "      <th>2</th>\n",
       "      <td>3</td>\n",
       "      <td>2014-03-01</td>\n",
       "      <td>423</td>\n",
       "      <td>12</td>\n",
       "      <td>others</td>\n",
       "      <td>111</td>\n",
       "      <td>Maharashtra</td>\n",
       "    </tr>\n",
       "    <tr>\n",
       "      <th>3</th>\n",
       "      <td>4</td>\n",
       "      <td>2014-03-01</td>\n",
       "      <td>432</td>\n",
       "      <td>12</td>\n",
       "      <td>others</td>\n",
       "      <td>111</td>\n",
       "      <td>Maharashtra</td>\n",
       "    </tr>\n",
       "    <tr>\n",
       "      <th>4</th>\n",
       "      <td>5</td>\n",
       "      <td>2014-03-01</td>\n",
       "      <td>581</td>\n",
       "      <td>21</td>\n",
       "      <td>fast_moving_consumer_goods</td>\n",
       "      <td>111</td>\n",
       "      <td>Maharashtra</td>\n",
       "    </tr>\n",
       "  </tbody>\n",
       "</table>\n",
       "</div>"
      ],
      "text/plain": [
       "   id        date  product_identifier  department_identifier  \\\n",
       "0   1  2014-03-01                  74                     11   \n",
       "1   2  2014-03-01                 337                     11   \n",
       "2   3  2014-03-01                 423                     12   \n",
       "3   4  2014-03-01                 432                     12   \n",
       "4   5  2014-03-01                 581                     21   \n",
       "\n",
       "          category_of_product  outlet        state  \n",
       "0                      others     111  Maharashtra  \n",
       "1                      others     111  Maharashtra  \n",
       "2                      others     111  Maharashtra  \n",
       "3                      others     111  Maharashtra  \n",
       "4  fast_moving_consumer_goods     111  Maharashtra  "
      ]
     },
     "execution_count": 5,
     "metadata": {},
     "output_type": "execute_result"
    }
   ],
   "source": [
    "test_data.head()"
   ]
  },
  {
   "cell_type": "code",
   "execution_count": 6,
   "metadata": {},
   "outputs": [
    {
     "data": {
      "text/html": [
       "<div>\n",
       "<style scoped>\n",
       "    .dataframe tbody tr th:only-of-type {\n",
       "        vertical-align: middle;\n",
       "    }\n",
       "\n",
       "    .dataframe tbody tr th {\n",
       "        vertical-align: top;\n",
       "    }\n",
       "\n",
       "    .dataframe thead th {\n",
       "        text-align: right;\n",
       "    }\n",
       "</style>\n",
       "<table border=\"1\" class=\"dataframe\">\n",
       "  <thead>\n",
       "    <tr style=\"text-align: right;\">\n",
       "      <th></th>\n",
       "      <th>outlet</th>\n",
       "      <th>product_identifier</th>\n",
       "      <th>week_id</th>\n",
       "      <th>sell_price</th>\n",
       "    </tr>\n",
       "  </thead>\n",
       "  <tbody>\n",
       "    <tr>\n",
       "      <th>0</th>\n",
       "      <td>111</td>\n",
       "      <td>74</td>\n",
       "      <td>49</td>\n",
       "      <td>2.94</td>\n",
       "    </tr>\n",
       "    <tr>\n",
       "      <th>1</th>\n",
       "      <td>111</td>\n",
       "      <td>74</td>\n",
       "      <td>50</td>\n",
       "      <td>2.94</td>\n",
       "    </tr>\n",
       "    <tr>\n",
       "      <th>2</th>\n",
       "      <td>111</td>\n",
       "      <td>74</td>\n",
       "      <td>51</td>\n",
       "      <td>2.94</td>\n",
       "    </tr>\n",
       "    <tr>\n",
       "      <th>3</th>\n",
       "      <td>111</td>\n",
       "      <td>74</td>\n",
       "      <td>52</td>\n",
       "      <td>2.94</td>\n",
       "    </tr>\n",
       "    <tr>\n",
       "      <th>4</th>\n",
       "      <td>111</td>\n",
       "      <td>74</td>\n",
       "      <td>53</td>\n",
       "      <td>2.94</td>\n",
       "    </tr>\n",
       "  </tbody>\n",
       "</table>\n",
       "</div>"
      ],
      "text/plain": [
       "   outlet  product_identifier  week_id  sell_price\n",
       "0     111                  74       49        2.94\n",
       "1     111                  74       50        2.94\n",
       "2     111                  74       51        2.94\n",
       "3     111                  74       52        2.94\n",
       "4     111                  74       53        2.94"
      ]
     },
     "execution_count": 6,
     "metadata": {},
     "output_type": "execute_result"
    }
   ],
   "source": [
    "product_prices.head()"
   ]
  },
  {
   "cell_type": "code",
   "execution_count": 7,
   "metadata": {},
   "outputs": [
    {
     "data": {
      "text/html": [
       "<div>\n",
       "<style scoped>\n",
       "    .dataframe tbody tr th:only-of-type {\n",
       "        vertical-align: middle;\n",
       "    }\n",
       "\n",
       "    .dataframe tbody tr th {\n",
       "        vertical-align: top;\n",
       "    }\n",
       "\n",
       "    .dataframe thead th {\n",
       "        text-align: right;\n",
       "    }\n",
       "</style>\n",
       "<table border=\"1\" class=\"dataframe\">\n",
       "  <thead>\n",
       "    <tr style=\"text-align: right;\">\n",
       "      <th></th>\n",
       "      <th>date</th>\n",
       "      <th>week_id</th>\n",
       "    </tr>\n",
       "  </thead>\n",
       "  <tbody>\n",
       "    <tr>\n",
       "      <th>0</th>\n",
       "      <td>2012-01-01</td>\n",
       "      <td>49</td>\n",
       "    </tr>\n",
       "    <tr>\n",
       "      <th>1</th>\n",
       "      <td>2012-01-02</td>\n",
       "      <td>49</td>\n",
       "    </tr>\n",
       "    <tr>\n",
       "      <th>2</th>\n",
       "      <td>2012-01-03</td>\n",
       "      <td>49</td>\n",
       "    </tr>\n",
       "    <tr>\n",
       "      <th>3</th>\n",
       "      <td>2012-01-04</td>\n",
       "      <td>49</td>\n",
       "    </tr>\n",
       "    <tr>\n",
       "      <th>4</th>\n",
       "      <td>2012-01-05</td>\n",
       "      <td>49</td>\n",
       "    </tr>\n",
       "  </tbody>\n",
       "</table>\n",
       "</div>"
      ],
      "text/plain": [
       "         date  week_id\n",
       "0  2012-01-01       49\n",
       "1  2012-01-02       49\n",
       "2  2012-01-03       49\n",
       "3  2012-01-04       49\n",
       "4  2012-01-05       49"
      ]
     },
     "execution_count": 7,
     "metadata": {},
     "output_type": "execute_result"
    }
   ],
   "source": [
    "date_to_week_id_map.head()"
   ]
  },
  {
   "cell_type": "markdown",
   "metadata": {},
   "source": [
    "# Merging the datasets "
   ]
  },
  {
   "cell_type": "code",
   "execution_count": 3,
   "metadata": {},
   "outputs": [],
   "source": [
    "def merge_df(df) :\n",
    "    df = pd.merge(left=df,right=date_to_week_id_map,on=\"date\",how=\"left\")\n",
    "    df=pd.merge(left=df,right=product_prices,on=[\"outlet\",'product_identifier','week_id'])\n",
    "    \n",
    "    return df"
   ]
  },
  {
   "cell_type": "code",
   "execution_count": 4,
   "metadata": {},
   "outputs": [],
   "source": [
    "train_data = merge_df(train_data)\n",
    "test_data = merge_df(test_data)"
   ]
  },
  {
   "cell_type": "code",
   "execution_count": 10,
   "metadata": {},
   "outputs": [
    {
     "name": "stdout",
     "output_type": "stream",
     "text": [
      "shape of train_data (395000, 9)\n",
      "shape of test_data (15500, 9)\n"
     ]
    }
   ],
   "source": [
    "print('shape of train_data',train_data.shape)     # dimensions of train and test datasets after the merge\n",
    "print('shape of test_data',test_data.shape)"
   ]
  },
  {
   "cell_type": "code",
   "execution_count": 11,
   "metadata": {},
   "outputs": [
    {
     "data": {
      "text/html": [
       "<div>\n",
       "<style scoped>\n",
       "    .dataframe tbody tr th:only-of-type {\n",
       "        vertical-align: middle;\n",
       "    }\n",
       "\n",
       "    .dataframe tbody tr th {\n",
       "        vertical-align: top;\n",
       "    }\n",
       "\n",
       "    .dataframe thead th {\n",
       "        text-align: right;\n",
       "    }\n",
       "</style>\n",
       "<table border=\"1\" class=\"dataframe\">\n",
       "  <thead>\n",
       "    <tr style=\"text-align: right;\">\n",
       "      <th></th>\n",
       "      <th>date</th>\n",
       "      <th>product_identifier</th>\n",
       "      <th>department_identifier</th>\n",
       "      <th>category_of_product</th>\n",
       "      <th>outlet</th>\n",
       "      <th>state</th>\n",
       "      <th>sales</th>\n",
       "      <th>week_id</th>\n",
       "      <th>sell_price</th>\n",
       "    </tr>\n",
       "  </thead>\n",
       "  <tbody>\n",
       "    <tr>\n",
       "      <th>0</th>\n",
       "      <td>2012-01-01</td>\n",
       "      <td>74</td>\n",
       "      <td>11</td>\n",
       "      <td>others</td>\n",
       "      <td>111</td>\n",
       "      <td>Maharashtra</td>\n",
       "      <td>0</td>\n",
       "      <td>49</td>\n",
       "      <td>2.94</td>\n",
       "    </tr>\n",
       "  </tbody>\n",
       "</table>\n",
       "</div>"
      ],
      "text/plain": [
       "         date  product_identifier  department_identifier category_of_product  \\\n",
       "0  2012-01-01                  74                     11              others   \n",
       "\n",
       "   outlet        state  sales  week_id  sell_price  \n",
       "0     111  Maharashtra      0       49        2.94  "
      ]
     },
     "execution_count": 11,
     "metadata": {},
     "output_type": "execute_result"
    }
   ],
   "source": [
    "train_data.head(1)"
   ]
  },
  {
   "cell_type": "code",
   "execution_count": 12,
   "metadata": {},
   "outputs": [
    {
     "data": {
      "text/html": [
       "<div>\n",
       "<style scoped>\n",
       "    .dataframe tbody tr th:only-of-type {\n",
       "        vertical-align: middle;\n",
       "    }\n",
       "\n",
       "    .dataframe tbody tr th {\n",
       "        vertical-align: top;\n",
       "    }\n",
       "\n",
       "    .dataframe thead th {\n",
       "        text-align: right;\n",
       "    }\n",
       "</style>\n",
       "<table border=\"1\" class=\"dataframe\">\n",
       "  <thead>\n",
       "    <tr style=\"text-align: right;\">\n",
       "      <th></th>\n",
       "      <th>id</th>\n",
       "      <th>date</th>\n",
       "      <th>product_identifier</th>\n",
       "      <th>department_identifier</th>\n",
       "      <th>category_of_product</th>\n",
       "      <th>outlet</th>\n",
       "      <th>state</th>\n",
       "      <th>week_id</th>\n",
       "      <th>sell_price</th>\n",
       "    </tr>\n",
       "  </thead>\n",
       "  <tbody>\n",
       "    <tr>\n",
       "      <th>0</th>\n",
       "      <td>1</td>\n",
       "      <td>2014-03-01</td>\n",
       "      <td>74</td>\n",
       "      <td>11</td>\n",
       "      <td>others</td>\n",
       "      <td>111</td>\n",
       "      <td>Maharashtra</td>\n",
       "      <td>162</td>\n",
       "      <td>3.43</td>\n",
       "    </tr>\n",
       "  </tbody>\n",
       "</table>\n",
       "</div>"
      ],
      "text/plain": [
       "   id        date  product_identifier  department_identifier  \\\n",
       "0   1  2014-03-01                  74                     11   \n",
       "\n",
       "  category_of_product  outlet        state  week_id  sell_price  \n",
       "0              others     111  Maharashtra      162        3.43  "
      ]
     },
     "execution_count": 12,
     "metadata": {},
     "output_type": "execute_result"
    }
   ],
   "source": [
    "test_data.head(1)"
   ]
  },
  {
   "cell_type": "code",
   "execution_count": 13,
   "metadata": {},
   "outputs": [
    {
     "data": {
      "text/plain": [
       "date                      object\n",
       "product_identifier         int64\n",
       "department_identifier      int64\n",
       "category_of_product       object\n",
       "outlet                     int64\n",
       "state                     object\n",
       "sales                      int64\n",
       "week_id                    int64\n",
       "sell_price               float64\n",
       "dtype: object"
      ]
     },
     "execution_count": 13,
     "metadata": {},
     "output_type": "execute_result"
    }
   ],
   "source": [
    "train_data.dtypes    # Checking the data types"
   ]
  },
  {
   "cell_type": "code",
   "execution_count": 14,
   "metadata": {},
   "outputs": [
    {
     "data": {
      "text/html": [
       "<div>\n",
       "<style scoped>\n",
       "    .dataframe tbody tr th:only-of-type {\n",
       "        vertical-align: middle;\n",
       "    }\n",
       "\n",
       "    .dataframe tbody tr th {\n",
       "        vertical-align: top;\n",
       "    }\n",
       "\n",
       "    .dataframe thead th {\n",
       "        text-align: right;\n",
       "    }\n",
       "</style>\n",
       "<table border=\"1\" class=\"dataframe\">\n",
       "  <thead>\n",
       "    <tr style=\"text-align: right;\">\n",
       "      <th></th>\n",
       "      <th>count</th>\n",
       "      <th>mean</th>\n",
       "      <th>std</th>\n",
       "      <th>min</th>\n",
       "      <th>25%</th>\n",
       "      <th>50%</th>\n",
       "      <th>75%</th>\n",
       "      <th>max</th>\n",
       "    </tr>\n",
       "  </thead>\n",
       "  <tbody>\n",
       "    <tr>\n",
       "      <th>product_identifier</th>\n",
       "      <td>395000.0</td>\n",
       "      <td>1509.960000</td>\n",
       "      <td>809.799518</td>\n",
       "      <td>74.00</td>\n",
       "      <td>926.00</td>\n",
       "      <td>1325.00</td>\n",
       "      <td>1753.00</td>\n",
       "      <td>3021.00</td>\n",
       "    </tr>\n",
       "    <tr>\n",
       "      <th>department_identifier</th>\n",
       "      <td>395000.0</td>\n",
       "      <td>24.460000</td>\n",
       "      <td>6.337863</td>\n",
       "      <td>11.00</td>\n",
       "      <td>21.00</td>\n",
       "      <td>22.00</td>\n",
       "      <td>31.00</td>\n",
       "      <td>33.00</td>\n",
       "    </tr>\n",
       "    <tr>\n",
       "      <th>outlet</th>\n",
       "      <td>395000.0</td>\n",
       "      <td>211.200000</td>\n",
       "      <td>91.161291</td>\n",
       "      <td>111.00</td>\n",
       "      <td>113.00</td>\n",
       "      <td>221.50</td>\n",
       "      <td>331.00</td>\n",
       "      <td>333.00</td>\n",
       "    </tr>\n",
       "    <tr>\n",
       "      <th>sales</th>\n",
       "      <td>395000.0</td>\n",
       "      <td>1.228919</td>\n",
       "      <td>3.595266</td>\n",
       "      <td>0.00</td>\n",
       "      <td>0.00</td>\n",
       "      <td>0.00</td>\n",
       "      <td>1.00</td>\n",
       "      <td>293.00</td>\n",
       "    </tr>\n",
       "    <tr>\n",
       "      <th>week_id</th>\n",
       "      <td>395000.0</td>\n",
       "      <td>105.070886</td>\n",
       "      <td>32.578749</td>\n",
       "      <td>49.00</td>\n",
       "      <td>77.00</td>\n",
       "      <td>105.00</td>\n",
       "      <td>133.00</td>\n",
       "      <td>161.00</td>\n",
       "    </tr>\n",
       "    <tr>\n",
       "      <th>sell_price</th>\n",
       "      <td>395000.0</td>\n",
       "      <td>4.987644</td>\n",
       "      <td>3.874444</td>\n",
       "      <td>0.05</td>\n",
       "      <td>2.68</td>\n",
       "      <td>3.98</td>\n",
       "      <td>6.48</td>\n",
       "      <td>44.36</td>\n",
       "    </tr>\n",
       "  </tbody>\n",
       "</table>\n",
       "</div>"
      ],
      "text/plain": [
       "                          count         mean         std     min     25%  \\\n",
       "product_identifier     395000.0  1509.960000  809.799518   74.00  926.00   \n",
       "department_identifier  395000.0    24.460000    6.337863   11.00   21.00   \n",
       "outlet                 395000.0   211.200000   91.161291  111.00  113.00   \n",
       "sales                  395000.0     1.228919    3.595266    0.00    0.00   \n",
       "week_id                395000.0   105.070886   32.578749   49.00   77.00   \n",
       "sell_price             395000.0     4.987644    3.874444    0.05    2.68   \n",
       "\n",
       "                           50%      75%      max  \n",
       "product_identifier     1325.00  1753.00  3021.00  \n",
       "department_identifier    22.00    31.00    33.00  \n",
       "outlet                  221.50   331.00   333.00  \n",
       "sales                     0.00     1.00   293.00  \n",
       "week_id                 105.00   133.00   161.00  \n",
       "sell_price                3.98     6.48    44.36  "
      ]
     },
     "execution_count": 14,
     "metadata": {},
     "output_type": "execute_result"
    }
   ],
   "source": [
    "train_data.describe().T    # summary of the dataset"
   ]
  },
  {
   "cell_type": "code",
   "execution_count": 15,
   "metadata": {},
   "outputs": [
    {
     "data": {
      "text/html": [
       "<div>\n",
       "<style scoped>\n",
       "    .dataframe tbody tr th:only-of-type {\n",
       "        vertical-align: middle;\n",
       "    }\n",
       "\n",
       "    .dataframe tbody tr th {\n",
       "        vertical-align: top;\n",
       "    }\n",
       "\n",
       "    .dataframe thead th {\n",
       "        text-align: right;\n",
       "    }\n",
       "</style>\n",
       "<table border=\"1\" class=\"dataframe\">\n",
       "  <thead>\n",
       "    <tr style=\"text-align: right;\">\n",
       "      <th></th>\n",
       "      <th>date</th>\n",
       "      <th>category_of_product</th>\n",
       "      <th>state</th>\n",
       "    </tr>\n",
       "  </thead>\n",
       "  <tbody>\n",
       "    <tr>\n",
       "      <th>count</th>\n",
       "      <td>395000</td>\n",
       "      <td>395000</td>\n",
       "      <td>395000</td>\n",
       "    </tr>\n",
       "    <tr>\n",
       "      <th>unique</th>\n",
       "      <td>790</td>\n",
       "      <td>3</td>\n",
       "      <td>3</td>\n",
       "    </tr>\n",
       "    <tr>\n",
       "      <th>top</th>\n",
       "      <td>2013-06-02</td>\n",
       "      <td>fast_moving_consumer_goods</td>\n",
       "      <td>Maharashtra</td>\n",
       "    </tr>\n",
       "    <tr>\n",
       "      <th>freq</th>\n",
       "      <td>500</td>\n",
       "      <td>229100</td>\n",
       "      <td>158000</td>\n",
       "    </tr>\n",
       "  </tbody>\n",
       "</table>\n",
       "</div>"
      ],
      "text/plain": [
       "              date         category_of_product        state\n",
       "count       395000                      395000       395000\n",
       "unique         790                           3            3\n",
       "top     2013-06-02  fast_moving_consumer_goods  Maharashtra\n",
       "freq           500                      229100       158000"
      ]
     },
     "execution_count": 15,
     "metadata": {},
     "output_type": "execute_result"
    }
   ],
   "source": [
    "train_data.describe(include=\"object\")"
   ]
  },
  {
   "cell_type": "markdown",
   "metadata": {},
   "source": [
    "#### The top selling category of product is fast_moving_consumer_goods\n",
    "#### The state with the maximum sales is Maharashtra"
   ]
  },
  {
   "cell_type": "code",
   "execution_count": 16,
   "metadata": {},
   "outputs": [
    {
     "data": {
      "text/html": [
       "<div>\n",
       "<style scoped>\n",
       "    .dataframe tbody tr th:only-of-type {\n",
       "        vertical-align: middle;\n",
       "    }\n",
       "\n",
       "    .dataframe tbody tr th {\n",
       "        vertical-align: top;\n",
       "    }\n",
       "\n",
       "    .dataframe thead th {\n",
       "        text-align: right;\n",
       "    }\n",
       "</style>\n",
       "<table border=\"1\" class=\"dataframe\">\n",
       "  <thead>\n",
       "    <tr style=\"text-align: right;\">\n",
       "      <th></th>\n",
       "      <th>date</th>\n",
       "      <th>product_identifier</th>\n",
       "      <th>department_identifier</th>\n",
       "      <th>category_of_product</th>\n",
       "      <th>outlet</th>\n",
       "      <th>state</th>\n",
       "      <th>sales</th>\n",
       "      <th>week_id</th>\n",
       "      <th>sell_price</th>\n",
       "    </tr>\n",
       "  </thead>\n",
       "  <tbody>\n",
       "    <tr>\n",
       "      <th>0</th>\n",
       "      <td>2012-01-01</td>\n",
       "      <td>74</td>\n",
       "      <td>11</td>\n",
       "      <td>others</td>\n",
       "      <td>111</td>\n",
       "      <td>Maharashtra</td>\n",
       "      <td>0</td>\n",
       "      <td>49</td>\n",
       "      <td>2.94</td>\n",
       "    </tr>\n",
       "    <tr>\n",
       "      <th>1</th>\n",
       "      <td>2012-01-02</td>\n",
       "      <td>74</td>\n",
       "      <td>11</td>\n",
       "      <td>others</td>\n",
       "      <td>111</td>\n",
       "      <td>Maharashtra</td>\n",
       "      <td>0</td>\n",
       "      <td>49</td>\n",
       "      <td>2.94</td>\n",
       "    </tr>\n",
       "    <tr>\n",
       "      <th>2</th>\n",
       "      <td>2012-01-03</td>\n",
       "      <td>74</td>\n",
       "      <td>11</td>\n",
       "      <td>others</td>\n",
       "      <td>111</td>\n",
       "      <td>Maharashtra</td>\n",
       "      <td>1</td>\n",
       "      <td>49</td>\n",
       "      <td>2.94</td>\n",
       "    </tr>\n",
       "    <tr>\n",
       "      <th>3</th>\n",
       "      <td>2012-01-04</td>\n",
       "      <td>74</td>\n",
       "      <td>11</td>\n",
       "      <td>others</td>\n",
       "      <td>111</td>\n",
       "      <td>Maharashtra</td>\n",
       "      <td>0</td>\n",
       "      <td>49</td>\n",
       "      <td>2.94</td>\n",
       "    </tr>\n",
       "    <tr>\n",
       "      <th>4</th>\n",
       "      <td>2012-01-05</td>\n",
       "      <td>74</td>\n",
       "      <td>11</td>\n",
       "      <td>others</td>\n",
       "      <td>111</td>\n",
       "      <td>Maharashtra</td>\n",
       "      <td>0</td>\n",
       "      <td>49</td>\n",
       "      <td>2.94</td>\n",
       "    </tr>\n",
       "  </tbody>\n",
       "</table>\n",
       "</div>"
      ],
      "text/plain": [
       "         date  product_identifier  department_identifier category_of_product  \\\n",
       "0  2012-01-01                  74                     11              others   \n",
       "1  2012-01-02                  74                     11              others   \n",
       "2  2012-01-03                  74                     11              others   \n",
       "3  2012-01-04                  74                     11              others   \n",
       "4  2012-01-05                  74                     11              others   \n",
       "\n",
       "   outlet        state  sales  week_id  sell_price  \n",
       "0     111  Maharashtra      0       49        2.94  \n",
       "1     111  Maharashtra      0       49        2.94  \n",
       "2     111  Maharashtra      1       49        2.94  \n",
       "3     111  Maharashtra      0       49        2.94  \n",
       "4     111  Maharashtra      0       49        2.94  "
      ]
     },
     "execution_count": 16,
     "metadata": {},
     "output_type": "execute_result"
    }
   ],
   "source": [
    "train_data.head()"
   ]
  },
  {
   "cell_type": "code",
   "execution_count": 17,
   "metadata": {},
   "outputs": [],
   "source": [
    "for col in [\"category_of_product\",'state'] :\n",
    "    train_data[col] = train_data[col].astype(\"category\")       # Converting to categorical data types"
   ]
  },
  {
   "cell_type": "code",
   "execution_count": 18,
   "metadata": {},
   "outputs": [
    {
     "data": {
      "text/plain": [
       "date                       object\n",
       "product_identifier          int64\n",
       "department_identifier       int64\n",
       "category_of_product      category\n",
       "outlet                      int64\n",
       "state                    category\n",
       "sales                       int64\n",
       "week_id                     int64\n",
       "sell_price                float64\n",
       "dtype: object"
      ]
     },
     "execution_count": 18,
     "metadata": {},
     "output_type": "execute_result"
    }
   ],
   "source": [
    "train_data.dtypes"
   ]
  },
  {
   "cell_type": "markdown",
   "metadata": {},
   "source": [
    "# Checking the unique levels "
   ]
  },
  {
   "cell_type": "code",
   "execution_count": 19,
   "metadata": {},
   "outputs": [
    {
     "data": {
      "text/plain": [
       "50"
      ]
     },
     "execution_count": 19,
     "metadata": {},
     "output_type": "execute_result"
    }
   ],
   "source": [
    "len(train_data[\"product_identifier\"].value_counts())"
   ]
  },
  {
   "cell_type": "code",
   "execution_count": 20,
   "metadata": {},
   "outputs": [
    {
     "data": {
      "text/plain": [
       "22    134300\n",
       "33     94800\n",
       "21     94800\n",
       "31     39500\n",
       "12     15800\n",
       "11     15800\n",
       "Name: department_identifier, dtype: int64"
      ]
     },
     "execution_count": 20,
     "metadata": {},
     "output_type": "execute_result"
    }
   ],
   "source": [
    "train_data[\"department_identifier\"].value_counts()"
   ]
  },
  {
   "cell_type": "code",
   "execution_count": 21,
   "metadata": {},
   "outputs": [
    {
     "data": {
      "text/plain": [
       "fast_moving_consumer_goods    229100\n",
       "drinks_and_food               134300\n",
       "others                         31600\n",
       "Name: category_of_product, dtype: int64"
      ]
     },
     "execution_count": 21,
     "metadata": {},
     "output_type": "execute_result"
    }
   ],
   "source": [
    "train_data[\"category_of_product\"].value_counts()"
   ]
  },
  {
   "cell_type": "code",
   "execution_count": 22,
   "metadata": {},
   "outputs": [
    {
     "data": {
      "text/plain": [
       "223    39500\n",
       "222    39500\n",
       "221    39500\n",
       "114    39500\n",
       "113    39500\n",
       "112    39500\n",
       "111    39500\n",
       "333    39500\n",
       "332    39500\n",
       "331    39500\n",
       "Name: outlet, dtype: int64"
      ]
     },
     "execution_count": 22,
     "metadata": {},
     "output_type": "execute_result"
    }
   ],
   "source": [
    "train_data[\"outlet\"].value_counts()"
   ]
  },
  {
   "cell_type": "code",
   "execution_count": 23,
   "metadata": {},
   "outputs": [
    {
     "data": {
      "text/plain": [
       "Maharashtra    158000\n",
       "Telangana      118500\n",
       "Kerala         118500\n",
       "Name: state, dtype: int64"
      ]
     },
     "execution_count": 23,
     "metadata": {},
     "output_type": "execute_result"
    }
   ],
   "source": [
    "train_data[\"state\"].value_counts()"
   ]
  },
  {
   "cell_type": "markdown",
   "metadata": {},
   "source": [
    "# checking for missing values"
   ]
  },
  {
   "cell_type": "code",
   "execution_count": 24,
   "metadata": {},
   "outputs": [
    {
     "data": {
      "text/plain": [
       "date                     0\n",
       "product_identifier       0\n",
       "department_identifier    0\n",
       "category_of_product      0\n",
       "outlet                   0\n",
       "state                    0\n",
       "sales                    0\n",
       "week_id                  0\n",
       "sell_price               0\n",
       "dtype: int64"
      ]
     },
     "execution_count": 24,
     "metadata": {},
     "output_type": "execute_result"
    }
   ],
   "source": [
    "train_data.isnull().sum()"
   ]
  },
  {
   "cell_type": "code",
   "execution_count": 25,
   "metadata": {},
   "outputs": [
    {
     "data": {
      "text/plain": [
       "id                       0\n",
       "date                     0\n",
       "product_identifier       0\n",
       "department_identifier    0\n",
       "category_of_product      0\n",
       "outlet                   0\n",
       "state                    0\n",
       "week_id                  0\n",
       "sell_price               0\n",
       "dtype: int64"
      ]
     },
     "execution_count": 25,
     "metadata": {},
     "output_type": "execute_result"
    }
   ],
   "source": [
    "test_data.isnull().sum()"
   ]
  },
  {
   "cell_type": "markdown",
   "metadata": {},
   "source": [
    "# Selecting categorical and numerical attributes"
   ]
  },
  {
   "cell_type": "code",
   "execution_count": 26,
   "metadata": {},
   "outputs": [
    {
     "data": {
      "text/plain": [
       "['category_of_product', 'state']"
      ]
     },
     "execution_count": 26,
     "metadata": {},
     "output_type": "execute_result"
    }
   ],
   "source": [
    "catt_attr = list(train_data.select_dtypes(include=[\"category\"]).columns)\n",
    "catt_attr"
   ]
  },
  {
   "cell_type": "code",
   "execution_count": 27,
   "metadata": {},
   "outputs": [
    {
     "data": {
      "text/plain": [
       "['product_identifier',\n",
       " 'department_identifier',\n",
       " 'outlet',\n",
       " 'sales',\n",
       " 'week_id',\n",
       " 'sell_price']"
      ]
     },
     "execution_count": 27,
     "metadata": {},
     "output_type": "execute_result"
    }
   ],
   "source": [
    "num_attr = list(train_data.select_dtypes(include=[\"int64\",'float64']).columns)\n",
    "num_attr"
   ]
  },
  {
   "cell_type": "markdown",
   "metadata": {},
   "source": [
    "# Creating dummy variables"
   ]
  },
  {
   "cell_type": "code",
   "execution_count": 28,
   "metadata": {},
   "outputs": [],
   "source": [
    "train_data = pd.get_dummies(train_data,columns=catt_attr,drop_first=True)"
   ]
  },
  {
   "cell_type": "code",
   "execution_count": 29,
   "metadata": {},
   "outputs": [
    {
     "data": {
      "text/html": [
       "<div>\n",
       "<style scoped>\n",
       "    .dataframe tbody tr th:only-of-type {\n",
       "        vertical-align: middle;\n",
       "    }\n",
       "\n",
       "    .dataframe tbody tr th {\n",
       "        vertical-align: top;\n",
       "    }\n",
       "\n",
       "    .dataframe thead th {\n",
       "        text-align: right;\n",
       "    }\n",
       "</style>\n",
       "<table border=\"1\" class=\"dataframe\">\n",
       "  <thead>\n",
       "    <tr style=\"text-align: right;\">\n",
       "      <th></th>\n",
       "      <th>date</th>\n",
       "      <th>product_identifier</th>\n",
       "      <th>department_identifier</th>\n",
       "      <th>outlet</th>\n",
       "      <th>sales</th>\n",
       "      <th>week_id</th>\n",
       "      <th>sell_price</th>\n",
       "      <th>category_of_product_fast_moving_consumer_goods</th>\n",
       "      <th>category_of_product_others</th>\n",
       "      <th>state_Maharashtra</th>\n",
       "      <th>state_Telangana</th>\n",
       "    </tr>\n",
       "  </thead>\n",
       "  <tbody>\n",
       "    <tr>\n",
       "      <th>0</th>\n",
       "      <td>2012-01-01</td>\n",
       "      <td>74</td>\n",
       "      <td>11</td>\n",
       "      <td>111</td>\n",
       "      <td>0</td>\n",
       "      <td>49</td>\n",
       "      <td>2.94</td>\n",
       "      <td>0</td>\n",
       "      <td>1</td>\n",
       "      <td>1</td>\n",
       "      <td>0</td>\n",
       "    </tr>\n",
       "    <tr>\n",
       "      <th>1</th>\n",
       "      <td>2012-01-02</td>\n",
       "      <td>74</td>\n",
       "      <td>11</td>\n",
       "      <td>111</td>\n",
       "      <td>0</td>\n",
       "      <td>49</td>\n",
       "      <td>2.94</td>\n",
       "      <td>0</td>\n",
       "      <td>1</td>\n",
       "      <td>1</td>\n",
       "      <td>0</td>\n",
       "    </tr>\n",
       "    <tr>\n",
       "      <th>2</th>\n",
       "      <td>2012-01-03</td>\n",
       "      <td>74</td>\n",
       "      <td>11</td>\n",
       "      <td>111</td>\n",
       "      <td>1</td>\n",
       "      <td>49</td>\n",
       "      <td>2.94</td>\n",
       "      <td>0</td>\n",
       "      <td>1</td>\n",
       "      <td>1</td>\n",
       "      <td>0</td>\n",
       "    </tr>\n",
       "    <tr>\n",
       "      <th>3</th>\n",
       "      <td>2012-01-04</td>\n",
       "      <td>74</td>\n",
       "      <td>11</td>\n",
       "      <td>111</td>\n",
       "      <td>0</td>\n",
       "      <td>49</td>\n",
       "      <td>2.94</td>\n",
       "      <td>0</td>\n",
       "      <td>1</td>\n",
       "      <td>1</td>\n",
       "      <td>0</td>\n",
       "    </tr>\n",
       "    <tr>\n",
       "      <th>4</th>\n",
       "      <td>2012-01-05</td>\n",
       "      <td>74</td>\n",
       "      <td>11</td>\n",
       "      <td>111</td>\n",
       "      <td>0</td>\n",
       "      <td>49</td>\n",
       "      <td>2.94</td>\n",
       "      <td>0</td>\n",
       "      <td>1</td>\n",
       "      <td>1</td>\n",
       "      <td>0</td>\n",
       "    </tr>\n",
       "  </tbody>\n",
       "</table>\n",
       "</div>"
      ],
      "text/plain": [
       "         date  product_identifier  department_identifier  outlet  sales  \\\n",
       "0  2012-01-01                  74                     11     111      0   \n",
       "1  2012-01-02                  74                     11     111      0   \n",
       "2  2012-01-03                  74                     11     111      1   \n",
       "3  2012-01-04                  74                     11     111      0   \n",
       "4  2012-01-05                  74                     11     111      0   \n",
       "\n",
       "   week_id  sell_price  category_of_product_fast_moving_consumer_goods  \\\n",
       "0       49        2.94                                               0   \n",
       "1       49        2.94                                               0   \n",
       "2       49        2.94                                               0   \n",
       "3       49        2.94                                               0   \n",
       "4       49        2.94                                               0   \n",
       "\n",
       "   category_of_product_others  state_Maharashtra  state_Telangana  \n",
       "0                           1                  1                0  \n",
       "1                           1                  1                0  \n",
       "2                           1                  1                0  \n",
       "3                           1                  1                0  \n",
       "4                           1                  1                0  "
      ]
     },
     "execution_count": 29,
     "metadata": {},
     "output_type": "execute_result"
    }
   ],
   "source": [
    "train_data.head()"
   ]
  },
  {
   "cell_type": "code",
   "execution_count": 30,
   "metadata": {},
   "outputs": [
    {
     "data": {
      "text/plain": [
       "(395000, 11)"
      ]
     },
     "execution_count": 30,
     "metadata": {},
     "output_type": "execute_result"
    }
   ],
   "source": [
    "train_data.shape"
   ]
  },
  {
   "cell_type": "code",
   "execution_count": 31,
   "metadata": {},
   "outputs": [],
   "source": [
    "# Converting date column to datetime format\n",
    "\n",
    "train_data['date'] = pd.to_datetime(train_data['date'])"
   ]
  },
  {
   "cell_type": "code",
   "execution_count": 32,
   "metadata": {},
   "outputs": [
    {
     "data": {
      "text/plain": [
       "date                                              datetime64[ns]\n",
       "product_identifier                                         int64\n",
       "department_identifier                                      int64\n",
       "outlet                                                     int64\n",
       "sales                                                      int64\n",
       "week_id                                                    int64\n",
       "sell_price                                               float64\n",
       "category_of_product_fast_moving_consumer_goods             uint8\n",
       "category_of_product_others                                 uint8\n",
       "state_Maharashtra                                          uint8\n",
       "state_Telangana                                            uint8\n",
       "dtype: object"
      ]
     },
     "execution_count": 32,
     "metadata": {},
     "output_type": "execute_result"
    }
   ],
   "source": [
    "train_data.dtypes"
   ]
  },
  {
   "cell_type": "markdown",
   "metadata": {},
   "source": [
    "# feature extraction"
   ]
  },
  {
   "cell_type": "code",
   "execution_count": 33,
   "metadata": {},
   "outputs": [],
   "source": [
    "def derive_fearure(pdf) :\n",
    "    pdf['year'] = pd.DatetimeIndex(pdf['date']).year\n",
    "    pdf['month'] = pd.DatetimeIndex(pdf['date']).month\n",
    "    pdf['quarter'] = pd.DatetimeIndex(pdf['date']).quarter\n",
    "    pdf['day'] = pd.DatetimeIndex(pdf['date']).day\n",
    "    pdf['day of the week'] = pd.DatetimeIndex(pdf['date']).dayofweek\n",
    "    pdf['weekofyear'] = pd.DatetimeIndex(pdf['date']).weekofyear\n",
    "    pdf['is_month_end'] = pd.DatetimeIndex(pdf['date']).is_month_end.astype(int)\n",
    "    pdf['is_month_start'] = pd.DatetimeIndex(pdf['date']).is_month_start.astype(int)\n",
    "\n",
    "    pdf['is_quarter_end'] = pd.DatetimeIndex(pdf['date']).is_quarter_end.astype(int)\n",
    "    pdf['is_quarter_start'] = pd.DatetimeIndex(pdf['date']).is_quarter_start.astype(int)\n",
    "    \n",
    "    pdf['is_year_end'] = pd.DatetimeIndex(pdf['date']).is_year_end.astype(int)\n",
    "    pdf['is_year_start'] = pd.DatetimeIndex(pdf['date']).is_year_start.astype(int)\n",
    "    \n",
    "    return pdf"
   ]
  },
  {
   "cell_type": "code",
   "execution_count": 34,
   "metadata": {},
   "outputs": [
    {
     "name": "stderr",
     "output_type": "stream",
     "text": [
      "C:\\Users\\Akshay\\Anaconda3\\lib\\site-packages\\ipykernel_launcher.py:7: FutureWarning: weekofyear and week have been deprecated, please use DatetimeIndex.isocalendar().week instead, which returns a Series.  To exactly reproduce the behavior of week and weekofyear and return an Index, you may call pd.Int64Index(idx.isocalendar().week)\n",
      "  import sys\n"
     ]
    }
   ],
   "source": [
    "train_data = derive_fearure(train_data)"
   ]
  },
  {
   "cell_type": "code",
   "execution_count": 35,
   "metadata": {},
   "outputs": [
    {
     "data": {
      "text/html": [
       "<div>\n",
       "<style scoped>\n",
       "    .dataframe tbody tr th:only-of-type {\n",
       "        vertical-align: middle;\n",
       "    }\n",
       "\n",
       "    .dataframe tbody tr th {\n",
       "        vertical-align: top;\n",
       "    }\n",
       "\n",
       "    .dataframe thead th {\n",
       "        text-align: right;\n",
       "    }\n",
       "</style>\n",
       "<table border=\"1\" class=\"dataframe\">\n",
       "  <thead>\n",
       "    <tr style=\"text-align: right;\">\n",
       "      <th></th>\n",
       "      <th>date</th>\n",
       "      <th>product_identifier</th>\n",
       "      <th>department_identifier</th>\n",
       "      <th>outlet</th>\n",
       "      <th>sales</th>\n",
       "      <th>week_id</th>\n",
       "      <th>sell_price</th>\n",
       "      <th>category_of_product_fast_moving_consumer_goods</th>\n",
       "      <th>category_of_product_others</th>\n",
       "      <th>state_Maharashtra</th>\n",
       "      <th>...</th>\n",
       "      <th>quarter</th>\n",
       "      <th>day</th>\n",
       "      <th>day of the week</th>\n",
       "      <th>weekofyear</th>\n",
       "      <th>is_month_end</th>\n",
       "      <th>is_month_start</th>\n",
       "      <th>is_quarter_end</th>\n",
       "      <th>is_quarter_start</th>\n",
       "      <th>is_year_end</th>\n",
       "      <th>is_year_start</th>\n",
       "    </tr>\n",
       "  </thead>\n",
       "  <tbody>\n",
       "    <tr>\n",
       "      <th>0</th>\n",
       "      <td>2012-01-01</td>\n",
       "      <td>74</td>\n",
       "      <td>11</td>\n",
       "      <td>111</td>\n",
       "      <td>0</td>\n",
       "      <td>49</td>\n",
       "      <td>2.94</td>\n",
       "      <td>0</td>\n",
       "      <td>1</td>\n",
       "      <td>1</td>\n",
       "      <td>...</td>\n",
       "      <td>1</td>\n",
       "      <td>1</td>\n",
       "      <td>6</td>\n",
       "      <td>52</td>\n",
       "      <td>0</td>\n",
       "      <td>1</td>\n",
       "      <td>0</td>\n",
       "      <td>1</td>\n",
       "      <td>0</td>\n",
       "      <td>1</td>\n",
       "    </tr>\n",
       "    <tr>\n",
       "      <th>1</th>\n",
       "      <td>2012-01-02</td>\n",
       "      <td>74</td>\n",
       "      <td>11</td>\n",
       "      <td>111</td>\n",
       "      <td>0</td>\n",
       "      <td>49</td>\n",
       "      <td>2.94</td>\n",
       "      <td>0</td>\n",
       "      <td>1</td>\n",
       "      <td>1</td>\n",
       "      <td>...</td>\n",
       "      <td>1</td>\n",
       "      <td>2</td>\n",
       "      <td>0</td>\n",
       "      <td>1</td>\n",
       "      <td>0</td>\n",
       "      <td>0</td>\n",
       "      <td>0</td>\n",
       "      <td>0</td>\n",
       "      <td>0</td>\n",
       "      <td>0</td>\n",
       "    </tr>\n",
       "    <tr>\n",
       "      <th>2</th>\n",
       "      <td>2012-01-03</td>\n",
       "      <td>74</td>\n",
       "      <td>11</td>\n",
       "      <td>111</td>\n",
       "      <td>1</td>\n",
       "      <td>49</td>\n",
       "      <td>2.94</td>\n",
       "      <td>0</td>\n",
       "      <td>1</td>\n",
       "      <td>1</td>\n",
       "      <td>...</td>\n",
       "      <td>1</td>\n",
       "      <td>3</td>\n",
       "      <td>1</td>\n",
       "      <td>1</td>\n",
       "      <td>0</td>\n",
       "      <td>0</td>\n",
       "      <td>0</td>\n",
       "      <td>0</td>\n",
       "      <td>0</td>\n",
       "      <td>0</td>\n",
       "    </tr>\n",
       "    <tr>\n",
       "      <th>3</th>\n",
       "      <td>2012-01-04</td>\n",
       "      <td>74</td>\n",
       "      <td>11</td>\n",
       "      <td>111</td>\n",
       "      <td>0</td>\n",
       "      <td>49</td>\n",
       "      <td>2.94</td>\n",
       "      <td>0</td>\n",
       "      <td>1</td>\n",
       "      <td>1</td>\n",
       "      <td>...</td>\n",
       "      <td>1</td>\n",
       "      <td>4</td>\n",
       "      <td>2</td>\n",
       "      <td>1</td>\n",
       "      <td>0</td>\n",
       "      <td>0</td>\n",
       "      <td>0</td>\n",
       "      <td>0</td>\n",
       "      <td>0</td>\n",
       "      <td>0</td>\n",
       "    </tr>\n",
       "    <tr>\n",
       "      <th>4</th>\n",
       "      <td>2012-01-05</td>\n",
       "      <td>74</td>\n",
       "      <td>11</td>\n",
       "      <td>111</td>\n",
       "      <td>0</td>\n",
       "      <td>49</td>\n",
       "      <td>2.94</td>\n",
       "      <td>0</td>\n",
       "      <td>1</td>\n",
       "      <td>1</td>\n",
       "      <td>...</td>\n",
       "      <td>1</td>\n",
       "      <td>5</td>\n",
       "      <td>3</td>\n",
       "      <td>1</td>\n",
       "      <td>0</td>\n",
       "      <td>0</td>\n",
       "      <td>0</td>\n",
       "      <td>0</td>\n",
       "      <td>0</td>\n",
       "      <td>0</td>\n",
       "    </tr>\n",
       "  </tbody>\n",
       "</table>\n",
       "<p>5 rows × 23 columns</p>\n",
       "</div>"
      ],
      "text/plain": [
       "        date  product_identifier  department_identifier  outlet  sales  \\\n",
       "0 2012-01-01                  74                     11     111      0   \n",
       "1 2012-01-02                  74                     11     111      0   \n",
       "2 2012-01-03                  74                     11     111      1   \n",
       "3 2012-01-04                  74                     11     111      0   \n",
       "4 2012-01-05                  74                     11     111      0   \n",
       "\n",
       "   week_id  sell_price  category_of_product_fast_moving_consumer_goods  \\\n",
       "0       49        2.94                                               0   \n",
       "1       49        2.94                                               0   \n",
       "2       49        2.94                                               0   \n",
       "3       49        2.94                                               0   \n",
       "4       49        2.94                                               0   \n",
       "\n",
       "   category_of_product_others  state_Maharashtra  ...  quarter  day  \\\n",
       "0                           1                  1  ...        1    1   \n",
       "1                           1                  1  ...        1    2   \n",
       "2                           1                  1  ...        1    3   \n",
       "3                           1                  1  ...        1    4   \n",
       "4                           1                  1  ...        1    5   \n",
       "\n",
       "   day of the week  weekofyear  is_month_end  is_month_start  is_quarter_end  \\\n",
       "0                6          52             0               1               0   \n",
       "1                0           1             0               0               0   \n",
       "2                1           1             0               0               0   \n",
       "3                2           1             0               0               0   \n",
       "4                3           1             0               0               0   \n",
       "\n",
       "   is_quarter_start  is_year_end  is_year_start  \n",
       "0                 1            0              1  \n",
       "1                 0            0              0  \n",
       "2                 0            0              0  \n",
       "3                 0            0              0  \n",
       "4                 0            0              0  \n",
       "\n",
       "[5 rows x 23 columns]"
      ]
     },
     "execution_count": 35,
     "metadata": {},
     "output_type": "execute_result"
    }
   ],
   "source": [
    "train_data.head()"
   ]
  },
  {
   "cell_type": "code",
   "execution_count": 36,
   "metadata": {},
   "outputs": [
    {
     "data": {
      "text/plain": [
       "(395000, 23)"
      ]
     },
     "execution_count": 36,
     "metadata": {},
     "output_type": "execute_result"
    }
   ],
   "source": [
    "train_data.shape"
   ]
  },
  {
   "cell_type": "code",
   "execution_count": 37,
   "metadata": {},
   "outputs": [
    {
     "data": {
      "text/plain": [
       "Index(['date', 'product_identifier', 'department_identifier', 'outlet',\n",
       "       'sales', 'week_id', 'sell_price',\n",
       "       'category_of_product_fast_moving_consumer_goods',\n",
       "       'category_of_product_others', 'state_Maharashtra', 'state_Telangana',\n",
       "       'year', 'month', 'quarter', 'day', 'day of the week', 'weekofyear',\n",
       "       'is_month_end', 'is_month_start', 'is_quarter_end', 'is_quarter_start',\n",
       "       'is_year_end', 'is_year_start'],\n",
       "      dtype='object')"
      ]
     },
     "execution_count": 37,
     "metadata": {},
     "output_type": "execute_result"
    }
   ],
   "source": [
    "train_data.columns"
   ]
  },
  {
   "cell_type": "markdown",
   "metadata": {},
   "source": [
    "# Train - Test split"
   ]
  },
  {
   "cell_type": "code",
   "execution_count": 38,
   "metadata": {},
   "outputs": [],
   "source": [
    "from sklearn.model_selection import train_test_split"
   ]
  },
  {
   "cell_type": "code",
   "execution_count": 39,
   "metadata": {},
   "outputs": [],
   "source": [
    "X = train_data.drop([\"date\",\"sales\"],axis=1)\n",
    "y = train_data['sales']"
   ]
  },
  {
   "cell_type": "code",
   "execution_count": 40,
   "metadata": {},
   "outputs": [],
   "source": [
    "X_train, X_test, y_train, y_test = train_test_split(X, y, test_size=0.3, random_state=101)"
   ]
  },
  {
   "cell_type": "code",
   "execution_count": 41,
   "metadata": {},
   "outputs": [
    {
     "name": "stdout",
     "output_type": "stream",
     "text": [
      "shape of X_train (276500, 21)\n",
      "shape of y_train (276500,)\n",
      "shape of X_test (118500, 21)\n",
      "shape of y_test (118500,)\n"
     ]
    }
   ],
   "source": [
    "print('shape of X_train',X_train.shape)\n",
    "print('shape of y_train',y_train.shape)\n",
    "print('shape of X_test',X_test.shape)\n",
    "print('shape of y_test',y_test.shape)"
   ]
  },
  {
   "cell_type": "markdown",
   "metadata": {},
   "source": [
    "# Standardize the data (numerical attributes only)"
   ]
  },
  {
   "cell_type": "code",
   "execution_count": 42,
   "metadata": {},
   "outputs": [],
   "source": [
    "from sklearn.preprocessing import StandardScaler"
   ]
  },
  {
   "cell_type": "code",
   "execution_count": 43,
   "metadata": {},
   "outputs": [],
   "source": [
    "scaler = StandardScaler()"
   ]
  },
  {
   "cell_type": "code",
   "execution_count": 44,
   "metadata": {},
   "outputs": [
    {
     "data": {
      "text/plain": [
       "['product_identifier',\n",
       " 'department_identifier',\n",
       " 'outlet',\n",
       " 'sales',\n",
       " 'week_id',\n",
       " 'sell_price']"
      ]
     },
     "execution_count": 44,
     "metadata": {},
     "output_type": "execute_result"
    }
   ],
   "source": [
    "num_attr"
   ]
  },
  {
   "cell_type": "code",
   "execution_count": 45,
   "metadata": {},
   "outputs": [],
   "source": [
    "numerical_attributes = ['product_identifier',\n",
    " 'department_identifier',\n",
    " 'outlet',\n",
    " 'week_id',\n",
    " 'sell_price']"
   ]
  },
  {
   "cell_type": "code",
   "execution_count": 46,
   "metadata": {},
   "outputs": [
    {
     "data": {
      "text/plain": [
       "StandardScaler()"
      ]
     },
     "execution_count": 46,
     "metadata": {},
     "output_type": "execute_result"
    }
   ],
   "source": [
    "scaler.fit(X_train[numerical_attributes])"
   ]
  },
  {
   "cell_type": "code",
   "execution_count": 47,
   "metadata": {},
   "outputs": [
    {
     "name": "stderr",
     "output_type": "stream",
     "text": [
      "C:\\Users\\Akshay\\Anaconda3\\lib\\site-packages\\ipykernel_launcher.py:1: SettingWithCopyWarning: \n",
      "A value is trying to be set on a copy of a slice from a DataFrame.\n",
      "Try using .loc[row_indexer,col_indexer] = value instead\n",
      "\n",
      "See the caveats in the documentation: https://pandas.pydata.org/pandas-docs/stable/user_guide/indexing.html#returning-a-view-versus-a-copy\n",
      "  \"\"\"Entry point for launching an IPython kernel.\n",
      "C:\\Users\\Akshay\\Anaconda3\\lib\\site-packages\\pandas\\core\\indexing.py:1736: SettingWithCopyWarning: \n",
      "A value is trying to be set on a copy of a slice from a DataFrame.\n",
      "Try using .loc[row_indexer,col_indexer] = value instead\n",
      "\n",
      "See the caveats in the documentation: https://pandas.pydata.org/pandas-docs/stable/user_guide/indexing.html#returning-a-view-versus-a-copy\n",
      "  isetter(loc, value[:, i].tolist())\n",
      "C:\\Users\\Akshay\\Anaconda3\\lib\\site-packages\\ipykernel_launcher.py:2: SettingWithCopyWarning: \n",
      "A value is trying to be set on a copy of a slice from a DataFrame.\n",
      "Try using .loc[row_indexer,col_indexer] = value instead\n",
      "\n",
      "See the caveats in the documentation: https://pandas.pydata.org/pandas-docs/stable/user_guide/indexing.html#returning-a-view-versus-a-copy\n",
      "  \n",
      "C:\\Users\\Akshay\\Anaconda3\\lib\\site-packages\\pandas\\core\\indexing.py:1736: SettingWithCopyWarning: \n",
      "A value is trying to be set on a copy of a slice from a DataFrame.\n",
      "Try using .loc[row_indexer,col_indexer] = value instead\n",
      "\n",
      "See the caveats in the documentation: https://pandas.pydata.org/pandas-docs/stable/user_guide/indexing.html#returning-a-view-versus-a-copy\n",
      "  isetter(loc, value[:, i].tolist())\n"
     ]
    }
   ],
   "source": [
    "X_train[numerical_attributes] = scaler.transform(X_train[numerical_attributes])\n",
    "X_test[numerical_attributes] = scaler.transform(X_test[numerical_attributes])"
   ]
  },
  {
   "cell_type": "markdown",
   "metadata": {},
   "source": [
    "# Model building -  LINEAR REGRESSION"
   ]
  },
  {
   "cell_type": "code",
   "execution_count": 49,
   "metadata": {},
   "outputs": [],
   "source": [
    "from sklearn.linear_model import LinearRegression"
   ]
  },
  {
   "cell_type": "code",
   "execution_count": 50,
   "metadata": {},
   "outputs": [],
   "source": [
    "lin_reg = LinearRegression()"
   ]
  },
  {
   "cell_type": "code",
   "execution_count": 51,
   "metadata": {},
   "outputs": [
    {
     "data": {
      "text/plain": [
       "LinearRegression()"
      ]
     },
     "execution_count": 51,
     "metadata": {},
     "output_type": "execute_result"
    }
   ],
   "source": [
    "lin_reg.fit(X_train,y_train)"
   ]
  },
  {
   "cell_type": "code",
   "execution_count": 52,
   "metadata": {},
   "outputs": [],
   "source": [
    "train_prediction = lin_reg.predict(X_train)\n",
    "test_prediction = lin_reg.predict(X_test)"
   ]
  },
  {
   "cell_type": "code",
   "execution_count": 53,
   "metadata": {},
   "outputs": [],
   "source": [
    "from sklearn.metrics import mean_squared_error"
   ]
  },
  {
   "cell_type": "code",
   "execution_count": 54,
   "metadata": {},
   "outputs": [],
   "source": [
    "train_rmse = np.sqrt(mean_squared_error(y_train,train_prediction))\n",
    "test_rmse = np.sqrt(mean_squared_error(y_test,test_prediction))"
   ]
  },
  {
   "cell_type": "code",
   "execution_count": 55,
   "metadata": {},
   "outputs": [
    {
     "name": "stdout",
     "output_type": "stream",
     "text": [
      "train_rmse : 3.45\n",
      "test_rmse : 3.49\n"
     ]
    }
   ],
   "source": [
    "print(\"train_rmse :\",round(train_rmse,2))\n",
    "print(\"test_rmse :\",round(test_rmse,2))"
   ]
  },
  {
   "cell_type": "markdown",
   "metadata": {},
   "source": [
    "# Model building -  DECISION TREE"
   ]
  },
  {
   "cell_type": "code",
   "execution_count": 60,
   "metadata": {},
   "outputs": [],
   "source": [
    "from sklearn.tree import DecisionTreeRegressor"
   ]
  },
  {
   "cell_type": "code",
   "execution_count": 61,
   "metadata": {},
   "outputs": [],
   "source": [
    "DT = DecisionTreeRegressor()"
   ]
  },
  {
   "cell_type": "code",
   "execution_count": 130,
   "metadata": {},
   "outputs": [
    {
     "data": {
      "text/plain": [
       "DecisionTreeRegressor()"
      ]
     },
     "execution_count": 130,
     "metadata": {},
     "output_type": "execute_result"
    }
   ],
   "source": [
    "DT.fit(X_train,y_train)"
   ]
  },
  {
   "cell_type": "code",
   "execution_count": 131,
   "metadata": {},
   "outputs": [],
   "source": [
    "train_prediction_dt = DT.predict(X_train)\n",
    "test_prediction_dt = DT.predict(X_test)"
   ]
  },
  {
   "cell_type": "code",
   "execution_count": 132,
   "metadata": {},
   "outputs": [],
   "source": [
    "train_rmse_dt = np.sqrt(mean_squared_error(y_train,train_prediction_dt))\n",
    "test_rmse_dt = np.sqrt(mean_squared_error(y_test,test_prediction_dt))"
   ]
  },
  {
   "cell_type": "code",
   "execution_count": 134,
   "metadata": {},
   "outputs": [
    {
     "name": "stdout",
     "output_type": "stream",
     "text": [
      "train_rmse_dt : 2.23\n",
      "test_rmse_dt : 2.83\n"
     ]
    }
   ],
   "source": [
    "print(\"train_rmse_dt :\",round(train_rmse_dt,2))\n",
    "print(\"test_rmse_dt :\",round(test_rmse_dt,2))"
   ]
  },
  {
   "cell_type": "code",
   "execution_count": 52,
   "metadata": {},
   "outputs": [
    {
     "data": {
      "text/plain": [
       "GridSearchCV(cv=5, estimator=DecisionTreeRegressor(),\n",
       "             param_grid={'criterion': ['mse'], 'max_depth': [6, 8, 10, 12],\n",
       "                         'min_samples_leaf': [1, 5, 10],\n",
       "                         'min_samples_split': [2, 10, 20]})"
      ]
     },
     "execution_count": 52,
     "metadata": {},
     "output_type": "execute_result"
    }
   ],
   "source": [
    "# DECISION TREE WITH HYPER-PARAMETERS TUNNING\n",
    "\n",
    "from sklearn.model_selection import GridSearchCV\n",
    "\n",
    "dt_param_grid = {'criterion': ['mse'],\n",
    "                 'max_depth': [6,8,10,12], \n",
    "                 \"min_samples_split\": [2, 10, 20],\n",
    "                 \"min_samples_leaf\": [1, 5, 10]}\n",
    "\n",
    "dt_grid = GridSearchCV(DT, param_grid=dt_param_grid, cv=5)\n",
    "\n",
    "dt_grid.fit(X_train,y_train)"
   ]
  },
  {
   "cell_type": "code",
   "execution_count": 53,
   "metadata": {},
   "outputs": [
    {
     "data": {
      "text/plain": [
       "{'criterion': 'mse',\n",
       " 'max_depth': 12,\n",
       " 'min_samples_leaf': 5,\n",
       " 'min_samples_split': 2}"
      ]
     },
     "execution_count": 53,
     "metadata": {},
     "output_type": "execute_result"
    }
   ],
   "source": [
    "dt_grid.best_params_"
   ]
  },
  {
   "cell_type": "code",
   "execution_count": 54,
   "metadata": {},
   "outputs": [
    {
     "data": {
      "text/plain": [
       "DecisionTreeRegressor(max_depth=12, min_samples_leaf=5)"
      ]
     },
     "execution_count": 54,
     "metadata": {},
     "output_type": "execute_result"
    }
   ],
   "source": [
    "dt_grid.best_estimator_"
   ]
  },
  {
   "cell_type": "code",
   "execution_count": 55,
   "metadata": {},
   "outputs": [],
   "source": [
    "train_pred = dt_grid.predict(X_train)\n",
    "test_pred = dt_grid.predict(X_test)"
   ]
  },
  {
   "cell_type": "code",
   "execution_count": 58,
   "metadata": {},
   "outputs": [],
   "source": [
    "train_rmse_dtHP = np.sqrt(mean_squared_error(y_train,train_pred))\n",
    "test_rmse_dtHP = np.sqrt(mean_squared_error(y_test,test_pred))"
   ]
  },
  {
   "cell_type": "code",
   "execution_count": 59,
   "metadata": {},
   "outputs": [
    {
     "name": "stdout",
     "output_type": "stream",
     "text": [
      "train_rmse_dtHP : 2.52\n",
      "test_rmse_dtHP : 2.78\n"
     ]
    }
   ],
   "source": [
    "print(\"train_rmse_dtHP :\",round(train_rmse_dtHP,2))\n",
    "print(\"test_rmse_dtHP :\",round(test_rmse_dtHP,2))"
   ]
  },
  {
   "cell_type": "markdown",
   "metadata": {},
   "source": [
    "# Model building - RANDOM FOREST"
   ]
  },
  {
   "cell_type": "code",
   "execution_count": 62,
   "metadata": {},
   "outputs": [],
   "source": [
    "from sklearn.ensemble import RandomForestRegressor"
   ]
  },
  {
   "cell_type": "code",
   "execution_count": 63,
   "metadata": {},
   "outputs": [],
   "source": [
    "RF= RandomForestRegressor(n_estimators=200,max_depth=5, min_samples_leaf=100,n_jobs=4,random_state=22)"
   ]
  },
  {
   "cell_type": "code",
   "execution_count": 64,
   "metadata": {},
   "outputs": [
    {
     "data": {
      "text/plain": [
       "RandomForestRegressor(max_depth=5, min_samples_leaf=100, n_estimators=200,\n",
       "                      n_jobs=4, random_state=22)"
      ]
     },
     "execution_count": 64,
     "metadata": {},
     "output_type": "execute_result"
    }
   ],
   "source": [
    "RF.fit(X_train,y_train)"
   ]
  },
  {
   "cell_type": "code",
   "execution_count": 65,
   "metadata": {},
   "outputs": [],
   "source": [
    "train_prediction_rf = RF.predict(X_train)\n",
    "test_prediction_rf = RF.predict(X_test)"
   ]
  },
  {
   "cell_type": "code",
   "execution_count": 66,
   "metadata": {},
   "outputs": [],
   "source": [
    "train_rmse_rf = np.sqrt(mean_squared_error(y_train,train_prediction_rf))\n",
    "test_rmse_rf = np.sqrt(mean_squared_error(y_test,test_prediction_rf))"
   ]
  },
  {
   "cell_type": "code",
   "execution_count": 67,
   "metadata": {},
   "outputs": [
    {
     "name": "stdout",
     "output_type": "stream",
     "text": [
      "train_rmse_rf : 2.9\n",
      "test_rmse_rf : 3.03\n"
     ]
    }
   ],
   "source": [
    "print(\"train_rmse_rf :\",round(train_rmse_rf,2))\n",
    "print(\"test_rmse_rf :\",round(test_rmse_rf,2))"
   ]
  },
  {
   "cell_type": "code",
   "execution_count": 68,
   "metadata": {},
   "outputs": [
    {
     "data": {
      "text/plain": [
       "array([6.55585839e-02, 3.11634469e-02, 1.48952900e-01, 1.83882647e-02,\n",
       "       6.10868426e-01, 0.00000000e+00, 3.51148938e-02, 9.52529547e-06,\n",
       "       2.94392992e-02, 0.00000000e+00, 1.70935466e-03, 4.83479505e-05,\n",
       "       4.80468800e-02, 6.82010554e-03, 2.46075439e-03, 0.00000000e+00,\n",
       "       0.00000000e+00, 0.00000000e+00, 0.00000000e+00, 1.41921705e-03,\n",
       "       0.00000000e+00])"
      ]
     },
     "execution_count": 68,
     "metadata": {},
     "output_type": "execute_result"
    }
   ],
   "source": [
    "RF.feature_importances_"
   ]
  },
  {
   "cell_type": "code",
   "execution_count": 69,
   "metadata": {},
   "outputs": [
    {
     "data": {
      "text/plain": [
       "sell_price                                        0.610868\n",
       "outlet                                            0.148953\n",
       "product_identifier                                0.065559\n",
       "day                                               0.048047\n",
       "category_of_product_others                        0.035115\n",
       "department_identifier                             0.031163\n",
       "state_Telangana                                   0.029439\n",
       "week_id                                           0.018388\n",
       "day of the week                                   0.006820\n",
       "weekofyear                                        0.002461\n",
       "month                                             0.001709\n",
       "is_year_end                                       0.001419\n",
       "quarter                                           0.000048\n",
       "state_Maharashtra                                 0.000010\n",
       "year                                              0.000000\n",
       "category_of_product_fast_moving_consumer_goods    0.000000\n",
       "is_month_end                                      0.000000\n",
       "is_month_start                                    0.000000\n",
       "is_quarter_end                                    0.000000\n",
       "is_quarter_start                                  0.000000\n",
       "is_year_start                                     0.000000\n",
       "dtype: float64"
      ]
     },
     "execution_count": 69,
     "metadata": {},
     "output_type": "execute_result"
    }
   ],
   "source": [
    "coef = pd.Series(RF.feature_importances_, X_train.columns).sort_values(ascending=False)\n",
    "coef"
   ]
  },
  {
   "cell_type": "code",
   "execution_count": 70,
   "metadata": {},
   "outputs": [
    {
     "name": "stderr",
     "output_type": "stream",
     "text": [
      "C:\\Users\\Akshay\\Anaconda3\\lib\\site-packages\\seaborn\\_decorators.py:43: FutureWarning: Pass the following variables as keyword args: x, y. From version 0.12, the only valid positional argument will be `data`, and passing other arguments without an explicit keyword will result in an error or misinterpretation.\n",
      "  FutureWarning\n"
     ]
    },
    {
     "data": {
      "text/plain": [
       "<AxesSubplot:>"
      ]
     },
     "execution_count": 70,
     "metadata": {},
     "output_type": "execute_result"
    },
    {
     "data": {
      "image/png": "[encoded data removed]",
      "text/plain": [
       "<Figure size 576x360 with 1 Axes>"
      ]
     },
     "metadata": {},
     "output_type": "display_data"
    }
   ],
   "source": [
    "plt.figure(figsize=(8,5))\n",
    "sns.barplot(RF.feature_importances_,features)"
   ]
  },
  {
   "cell_type": "markdown",
   "metadata": {},
   "source": [
    "# Model building - XG BOOST"
   ]
  },
  {
   "cell_type": "code",
   "execution_count": 76,
   "metadata": {},
   "outputs": [],
   "source": [
    "import xgboost"
   ]
  },
  {
   "cell_type": "code",
   "execution_count": 77,
   "metadata": {},
   "outputs": [],
   "source": [
    "from xgboost import XGBRegressor"
   ]
  },
  {
   "cell_type": "code",
   "execution_count": 78,
   "metadata": {},
   "outputs": [],
   "source": [
    "model = XGBRegressor()"
   ]
  },
  {
   "cell_type": "code",
   "execution_count": 79,
   "metadata": {},
   "outputs": [
    {
     "data": {
      "text/plain": [
       "XGBRegressor(base_score=None, booster=None, colsample_bylevel=None,\n",
       "             colsample_bynode=None, colsample_bytree=None, gamma=None,\n",
       "             gpu_id=None, importance_type='gain', interaction_constraints=None,\n",
       "             learning_rate=None, max_delta_step=None, max_depth=None,\n",
       "             min_child_weight=None, missing=nan, monotone_constraints=None,\n",
       "             n_estimators=100, n_jobs=None, num_parallel_tree=None,\n",
       "             random_state=None, reg_alpha=None, reg_lambda=None,\n",
       "             scale_pos_weight=None, subsample=None, tree_method=None,\n",
       "             validate_parameters=None, verbosity=None)"
      ]
     },
     "execution_count": 79,
     "metadata": {},
     "output_type": "execute_result"
    }
   ],
   "source": [
    "model"
   ]
  },
  {
   "cell_type": "code",
   "execution_count": 80,
   "metadata": {},
   "outputs": [
    {
     "data": {
      "text/plain": [
       "XGBRegressor(base_score=0.5, booster='gbtree', colsample_bylevel=1,\n",
       "             colsample_bynode=1, colsample_bytree=1, gamma=0, gpu_id=-1,\n",
       "             importance_type='gain', interaction_constraints='',\n",
       "             learning_rate=0.300000012, max_delta_step=0, max_depth=6,\n",
       "             min_child_weight=1, missing=nan, monotone_constraints='()',\n",
       "             n_estimators=100, n_jobs=0, num_parallel_tree=1, random_state=0,\n",
       "             reg_alpha=0, reg_lambda=1, scale_pos_weight=1, subsample=1,\n",
       "             tree_method='exact', validate_parameters=1, verbosity=None)"
      ]
     },
     "execution_count": 80,
     "metadata": {},
     "output_type": "execute_result"
    }
   ],
   "source": [
    "model.fit(X_train,y_train)"
   ]
  },
  {
   "cell_type": "code",
   "execution_count": 81,
   "metadata": {},
   "outputs": [],
   "source": [
    "train_xg = model.predict(X_train)\n",
    "test_xg = model.predict(X_test)"
   ]
  },
  {
   "cell_type": "code",
   "execution_count": 82,
   "metadata": {},
   "outputs": [],
   "source": [
    "train_rmse_xg = np.sqrt(mean_squared_error(y_train,train_xg))\n",
    "test_rmse_xg = np.sqrt(mean_squared_error(y_test,test_xg))"
   ]
  },
  {
   "cell_type": "code",
   "execution_count": 83,
   "metadata": {},
   "outputs": [
    {
     "name": "stdout",
     "output_type": "stream",
     "text": [
      "train_rmse_xg : 2.49522962308921\n",
      "test_rmse_xg : 2.67537033398296\n"
     ]
    }
   ],
   "source": [
    "print(\"train_rmse_xg :\",train_rmse_xg)\n",
    "print(\"test_rmse_xg :\",test_rmse_xg)"
   ]
  },
  {
   "cell_type": "markdown",
   "metadata": {},
   "source": [
    "# VISUALIZATIONS "
   ]
  },
  {
   "cell_type": "code",
   "execution_count": 82,
   "metadata": {},
   "outputs": [
    {
     "data": {
      "text/html": [
       "<div>\n",
       "<style scoped>\n",
       "    .dataframe tbody tr th:only-of-type {\n",
       "        vertical-align: middle;\n",
       "    }\n",
       "\n",
       "    .dataframe tbody tr th {\n",
       "        vertical-align: top;\n",
       "    }\n",
       "\n",
       "    .dataframe thead th {\n",
       "        text-align: right;\n",
       "    }\n",
       "</style>\n",
       "<table border=\"1\" class=\"dataframe\">\n",
       "  <thead>\n",
       "    <tr style=\"text-align: right;\">\n",
       "      <th></th>\n",
       "      <th>date</th>\n",
       "      <th>product_identifier</th>\n",
       "      <th>department_identifier</th>\n",
       "      <th>category_of_product</th>\n",
       "      <th>outlet</th>\n",
       "      <th>state</th>\n",
       "      <th>sales</th>\n",
       "      <th>week_id</th>\n",
       "      <th>sell_price</th>\n",
       "    </tr>\n",
       "  </thead>\n",
       "  <tbody>\n",
       "    <tr>\n",
       "      <th>0</th>\n",
       "      <td>2012-01-01</td>\n",
       "      <td>74</td>\n",
       "      <td>11</td>\n",
       "      <td>others</td>\n",
       "      <td>111</td>\n",
       "      <td>Maharashtra</td>\n",
       "      <td>0</td>\n",
       "      <td>49</td>\n",
       "      <td>2.94</td>\n",
       "    </tr>\n",
       "    <tr>\n",
       "      <th>1</th>\n",
       "      <td>2012-01-02</td>\n",
       "      <td>74</td>\n",
       "      <td>11</td>\n",
       "      <td>others</td>\n",
       "      <td>111</td>\n",
       "      <td>Maharashtra</td>\n",
       "      <td>0</td>\n",
       "      <td>49</td>\n",
       "      <td>2.94</td>\n",
       "    </tr>\n",
       "    <tr>\n",
       "      <th>2</th>\n",
       "      <td>2012-01-03</td>\n",
       "      <td>74</td>\n",
       "      <td>11</td>\n",
       "      <td>others</td>\n",
       "      <td>111</td>\n",
       "      <td>Maharashtra</td>\n",
       "      <td>1</td>\n",
       "      <td>49</td>\n",
       "      <td>2.94</td>\n",
       "    </tr>\n",
       "    <tr>\n",
       "      <th>3</th>\n",
       "      <td>2012-01-04</td>\n",
       "      <td>74</td>\n",
       "      <td>11</td>\n",
       "      <td>others</td>\n",
       "      <td>111</td>\n",
       "      <td>Maharashtra</td>\n",
       "      <td>0</td>\n",
       "      <td>49</td>\n",
       "      <td>2.94</td>\n",
       "    </tr>\n",
       "    <tr>\n",
       "      <th>4</th>\n",
       "      <td>2012-01-05</td>\n",
       "      <td>74</td>\n",
       "      <td>11</td>\n",
       "      <td>others</td>\n",
       "      <td>111</td>\n",
       "      <td>Maharashtra</td>\n",
       "      <td>0</td>\n",
       "      <td>49</td>\n",
       "      <td>2.94</td>\n",
       "    </tr>\n",
       "  </tbody>\n",
       "</table>\n",
       "</div>"
      ],
      "text/plain": [
       "         date  product_identifier  department_identifier category_of_product  \\\n",
       "0  2012-01-01                  74                     11              others   \n",
       "1  2012-01-02                  74                     11              others   \n",
       "2  2012-01-03                  74                     11              others   \n",
       "3  2012-01-04                  74                     11              others   \n",
       "4  2012-01-05                  74                     11              others   \n",
       "\n",
       "   outlet        state  sales  week_id  sell_price  \n",
       "0     111  Maharashtra      0       49        2.94  \n",
       "1     111  Maharashtra      0       49        2.94  \n",
       "2     111  Maharashtra      1       49        2.94  \n",
       "3     111  Maharashtra      0       49        2.94  \n",
       "4     111  Maharashtra      0       49        2.94  "
      ]
     },
     "execution_count": 82,
     "metadata": {},
     "output_type": "execute_result"
    }
   ],
   "source": [
    "train_data.head()"
   ]
  },
  {
   "cell_type": "code",
   "execution_count": 14,
   "metadata": {},
   "outputs": [],
   "source": [
    "train_data['date'] = pd.to_datetime(train_data['date'])"
   ]
  },
  {
   "cell_type": "code",
   "execution_count": 90,
   "metadata": {},
   "outputs": [
    {
     "data": {
      "text/plain": [
       "date                     datetime64[ns]\n",
       "product_identifier                int64\n",
       "department_identifier             int64\n",
       "category_of_product              object\n",
       "outlet                            int64\n",
       "state                            object\n",
       "sales                             int64\n",
       "week_id                           int64\n",
       "sell_price                      float64\n",
       "dtype: object"
      ]
     },
     "execution_count": 90,
     "metadata": {},
     "output_type": "execute_result"
    }
   ],
   "source": [
    "train_data.dtypes"
   ]
  },
  {
   "cell_type": "code",
   "execution_count": 17,
   "metadata": {},
   "outputs": [],
   "source": [
    "train_data.set_index('date',inplace=True)"
   ]
  },
  {
   "cell_type": "markdown",
   "metadata": {},
   "source": [
    "## Monthly sales"
   ]
  },
  {
   "cell_type": "code",
   "execution_count": 96,
   "metadata": {},
   "outputs": [
    {
     "data": {
      "text/plain": [
       "<AxesSubplot:xlabel='date'>"
      ]
     },
     "execution_count": 96,
     "metadata": {},
     "output_type": "execute_result"
    },
    {
     "data": {
      "image/png": "[encoded data removed]",
      "text/plain": [
       "<Figure size 1296x576 with 1 Axes>"
      ]
     },
     "metadata": {},
     "output_type": "display_data"
    }
   ],
   "source": [
    "a=train_data['sales'].resample('M').sum()\n",
    "a.plot.line(figsize=(18,8))"
   ]
  },
  {
   "cell_type": "markdown",
   "metadata": {},
   "source": [
    "## Yearly sales"
   ]
  },
  {
   "cell_type": "code",
   "execution_count": 18,
   "metadata": {},
   "outputs": [
    {
     "data": {
      "text/plain": [
       "Text(0.5, 1.0, 'YEARLY SALES')"
      ]
     },
     "execution_count": 18,
     "metadata": {},
     "output_type": "execute_result"
    },
    {
     "data": {
      "image/png": "[encoded data removed]",
      "text/plain": [
       "<Figure size 1152x432 with 1 Axes>"
      ]
     },
     "metadata": {},
     "output_type": "display_data"
    }
   ],
   "source": [
    "year_most_sales = train_data.resample(rule='A').sum()['sales'] \n",
    "year_most_sales.plot.bar(figsize=(16,6))\n",
    "plt.title(\"YEARLY SALES\")"
   ]
  },
  {
   "cell_type": "markdown",
   "metadata": {},
   "source": [
    "# Top sold products"
   ]
  },
  {
   "cell_type": "code",
   "execution_count": 4,
   "metadata": {},
   "outputs": [],
   "source": [
    "df = pd.DataFrame(train_data.groupby(\"product_identifier\").sum()['sales'].sort_values(ascending=False)).head()"
   ]
  },
  {
   "cell_type": "code",
   "execution_count": 19,
   "metadata": {},
   "outputs": [
    {
     "data": {
      "text/plain": [
       "Text(0.5, 1.0, 'TOP 5 SOLD PRODUCTS')"
      ]
     },
     "execution_count": 19,
     "metadata": {},
     "output_type": "execute_result"
    },
    {
     "data": {
      "image/png": "[encoded data removed]",
      "text/plain": [
       "<Figure size 1080x360 with 1 Axes>"
      ]
     },
     "metadata": {},
     "output_type": "display_data"
    }
   ],
   "source": [
    "# Top 5 products sold\n",
    "plt.figure(figsize=(15,5))\n",
    "sns.barplot(x=df.index,y=\"sales\",data=df)\n",
    "plt.title(\"TOP 5 SOLD PRODUCTS\")"
   ]
  },
  {
   "cell_type": "markdown",
   "metadata": {},
   "source": [
    "# Top 5 departments"
   ]
  },
  {
   "cell_type": "code",
   "execution_count": 10,
   "metadata": {},
   "outputs": [],
   "source": [
    "df1 = pd.DataFrame(train_data.groupby(\"department_identifier\").sum()['sales'].sort_values(ascending=False)).head()"
   ]
  },
  {
   "cell_type": "code",
   "execution_count": 12,
   "metadata": {},
   "outputs": [
    {
     "data": {
      "text/plain": [
       "<AxesSubplot:xlabel='department_identifier', ylabel='sales'>"
      ]
     },
     "execution_count": 12,
     "metadata": {},
     "output_type": "execute_result"
    },
    {
     "data": {
      "image/png": "[encoded data removed]",
      "text/plain": [
       "<Figure size 1080x360 with 1 Axes>"
      ]
     },
     "metadata": {},
     "output_type": "display_data"
    }
   ],
   "source": [
    "plt.figure(figsize=(15,5))\n",
    "sns.barplot(x=df1.index,y=\"sales\",data=df1)     # Top 5 sales wrt departments"
   ]
  },
  {
   "cell_type": "markdown",
   "metadata": {},
   "source": [
    "# Sale wrt each category of products"
   ]
  },
  {
   "cell_type": "code",
   "execution_count": 22,
   "metadata": {},
   "outputs": [],
   "source": [
    "df2 = pd.DataFrame(train_data.groupby(\"category_of_product\").sum()['sales'].sort_values(ascending=False))"
   ]
  },
  {
   "cell_type": "code",
   "execution_count": 23,
   "metadata": {},
   "outputs": [
    {
     "data": {
      "text/plain": [
       "<AxesSubplot:xlabel='category_of_product', ylabel='sales'>"
      ]
     },
     "execution_count": 23,
     "metadata": {},
     "output_type": "execute_result"
    },
    {
     "data": {
      "image/png": "[encoded data removed]",
      "text/plain": [
       "<Figure size 1080x360 with 1 Axes>"
      ]
     },
     "metadata": {},
     "output_type": "display_data"
    }
   ],
   "source": [
    "plt.figure(figsize=(15,5))\n",
    "sns.barplot(x=df2.index,y=\"sales\",data=df2)  "
   ]
  },
  {
   "cell_type": "markdown",
   "metadata": {},
   "source": [
    "# Sales across each state"
   ]
  },
  {
   "cell_type": "code",
   "execution_count": 30,
   "metadata": {},
   "outputs": [],
   "source": [
    "df3 = pd.DataFrame(train_data.groupby(\"state\").sum()['sales'].sort_values(ascending=False))"
   ]
  },
  {
   "cell_type": "code",
   "execution_count": 31,
   "metadata": {},
   "outputs": [
    {
     "data": {
      "text/plain": [
       "<AxesSubplot:xlabel='state', ylabel='sales'>"
      ]
     },
     "execution_count": 31,
     "metadata": {},
     "output_type": "execute_result"
    },
    {
     "data": {
      "image/png": "[encoded data removed]",
      "text/plain": [
       "<Figure size 1080x360 with 1 Axes>"
      ]
     },
     "metadata": {},
     "output_type": "display_data"
    }
   ],
   "source": [
    "plt.figure(figsize=(15,5))\n",
    "sns.barplot(x=df3.index,y=\"sales\",data=df3)"
   ]
  },
  {
   "cell_type": "markdown",
   "metadata": {},
   "source": [
    "# Yearly  sales for each state"
   ]
  },
  {
   "cell_type": "code",
   "execution_count": 31,
   "metadata": {},
   "outputs": [
    {
     "data": {
      "text/plain": [
       "<AxesSubplot:xlabel='year,state'>"
      ]
     },
     "execution_count": 31,
     "metadata": {},
     "output_type": "execute_result"
    },
    {
     "data": {
      "image/png": "[encoded data removed]",
      "text/plain": [
       "<Figure size 864x576 with 1 Axes>"
      ]
     },
     "metadata": {},
     "output_type": "display_data"
    }
   ],
   "source": [
    "plt.figure(figsize=(12,8))\n",
    "train_data.groupby([\"year\",\"state\"]).sum()[\"sales\"].plot(kind=\"bar\")"
   ]
  },
  {
   "cell_type": "markdown",
   "metadata": {},
   "source": [
    "# Sales vs selling price"
   ]
  },
  {
   "cell_type": "code",
   "execution_count": 43,
   "metadata": {},
   "outputs": [],
   "source": [
    "df5 = train_data.groupby([\"product_identifier\"]).mean()[[\"sales\",\"sell_price\"]]"
   ]
  },
  {
   "cell_type": "code",
   "execution_count": 48,
   "metadata": {},
   "outputs": [
    {
     "data": {
      "text/plain": [
       "<AxesSubplot:xlabel='sell_price', ylabel='sales'>"
      ]
     },
     "execution_count": 48,
     "metadata": {},
     "output_type": "execute_result"
    },
    {
     "data": {
      "image/png": "[encoded data removed]",
      "text/plain": [
       "<Figure size 864x576 with 1 Axes>"
      ]
     },
     "metadata": {},
     "output_type": "display_data"
    }
   ],
   "source": [
    "plt.figure(figsize=(12,8))\n",
    "sns.lineplot(x=\"sell_price\",y=\"sales\",data=df5)"
   ]
  },
  {
   "cell_type": "markdown",
   "metadata": {},
   "source": [
    "#### Products with sell_price between 0 to 3 had the maximum sales"
   ]
  }
 ],
 "metadata": {
  "kernelspec": {
   "display_name": "Python 3",
   "language": "python",
   "name": "python3"
  },
  "language_info": {
   "codemirror_mode": {
    "name": "ipython",
    "version": 3
   },
   "file_extension": ".py",
   "mimetype": "text/x-python",
   "name": "python",
   "nbconvert_exporter": "python",
   "pygments_lexer": "ipython3",
   "version": "3.6.5"
  }
 },
 "nbformat": 4,
 "nbformat_minor": 2
}
